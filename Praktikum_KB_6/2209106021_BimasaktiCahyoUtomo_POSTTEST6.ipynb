{
 "cells": [
  {
   "attachments": {},
   "cell_type": "markdown",
   "metadata": {},
   "source": [
    "### NAMA : Bimasakti Cahyo Utomo\n",
    "### NIM  : 2209106021\n",
    "## POSTTEST 6"
   ]
  },
  {
   "cell_type": "code",
   "execution_count": 863,
   "metadata": {},
   "outputs": [],
   "source": [
    "import pandas as pd"
   ]
  },
  {
   "cell_type": "code",
   "execution_count": 864,
   "metadata": {},
   "outputs": [
    {
     "data": {
      "text/html": [
       "<div>\n",
       "<style scoped>\n",
       "    .dataframe tbody tr th:only-of-type {\n",
       "        vertical-align: middle;\n",
       "    }\n",
       "\n",
       "    .dataframe tbody tr th {\n",
       "        vertical-align: top;\n",
       "    }\n",
       "\n",
       "    .dataframe thead th {\n",
       "        text-align: right;\n",
       "    }\n",
       "</style>\n",
       "<table border=\"1\" class=\"dataframe\">\n",
       "  <thead>\n",
       "    <tr style=\"text-align: right;\">\n",
       "      <th></th>\n",
       "      <th>Unnamed: 0</th>\n",
       "      <th>Product</th>\n",
       "      <th>Type</th>\n",
       "      <th>Release Date</th>\n",
       "      <th>Process Size (nm)</th>\n",
       "      <th>TDP (W)</th>\n",
       "      <th>Die Size (mm^2)</th>\n",
       "      <th>Transistors (million)</th>\n",
       "      <th>Freq (MHz)</th>\n",
       "      <th>Foundry</th>\n",
       "      <th>Vendor</th>\n",
       "      <th>FP16 GFLOPS</th>\n",
       "      <th>FP32 GFLOPS</th>\n",
       "      <th>FP64 GFLOPS</th>\n",
       "    </tr>\n",
       "  </thead>\n",
       "  <tbody>\n",
       "    <tr>\n",
       "      <th>0</th>\n",
       "      <td>0</td>\n",
       "      <td>AMD Athlon 64 3500+</td>\n",
       "      <td>CPU</td>\n",
       "      <td>2007-02-20</td>\n",
       "      <td>65.0</td>\n",
       "      <td>45.0</td>\n",
       "      <td>77.0</td>\n",
       "      <td>122.0</td>\n",
       "      <td>2200.0</td>\n",
       "      <td>Unknown</td>\n",
       "      <td>AMD</td>\n",
       "      <td>NaN</td>\n",
       "      <td>NaN</td>\n",
       "      <td>NaN</td>\n",
       "    </tr>\n",
       "    <tr>\n",
       "      <th>1</th>\n",
       "      <td>1</td>\n",
       "      <td>AMD Athlon 200GE</td>\n",
       "      <td>CPU</td>\n",
       "      <td>2018-09-06</td>\n",
       "      <td>14.0</td>\n",
       "      <td>35.0</td>\n",
       "      <td>192.0</td>\n",
       "      <td>4800.0</td>\n",
       "      <td>3200.0</td>\n",
       "      <td>Unknown</td>\n",
       "      <td>AMD</td>\n",
       "      <td>NaN</td>\n",
       "      <td>NaN</td>\n",
       "      <td>NaN</td>\n",
       "    </tr>\n",
       "    <tr>\n",
       "      <th>2</th>\n",
       "      <td>2</td>\n",
       "      <td>Intel Core i5-1145G7</td>\n",
       "      <td>CPU</td>\n",
       "      <td>2020-09-02</td>\n",
       "      <td>10.0</td>\n",
       "      <td>28.0</td>\n",
       "      <td>NaN</td>\n",
       "      <td>NaN</td>\n",
       "      <td>2600.0</td>\n",
       "      <td>Intel</td>\n",
       "      <td>Intel</td>\n",
       "      <td>NaN</td>\n",
       "      <td>NaN</td>\n",
       "      <td>NaN</td>\n",
       "    </tr>\n",
       "    <tr>\n",
       "      <th>3</th>\n",
       "      <td>3</td>\n",
       "      <td>Intel Xeon E5-2603 v2</td>\n",
       "      <td>CPU</td>\n",
       "      <td>2013-09-01</td>\n",
       "      <td>22.0</td>\n",
       "      <td>80.0</td>\n",
       "      <td>160.0</td>\n",
       "      <td>1400.0</td>\n",
       "      <td>1800.0</td>\n",
       "      <td>Intel</td>\n",
       "      <td>Intel</td>\n",
       "      <td>NaN</td>\n",
       "      <td>NaN</td>\n",
       "      <td>NaN</td>\n",
       "    </tr>\n",
       "    <tr>\n",
       "      <th>4</th>\n",
       "      <td>4</td>\n",
       "      <td>AMD Phenom II X4 980 BE</td>\n",
       "      <td>CPU</td>\n",
       "      <td>2011-05-03</td>\n",
       "      <td>45.0</td>\n",
       "      <td>125.0</td>\n",
       "      <td>258.0</td>\n",
       "      <td>758.0</td>\n",
       "      <td>3700.0</td>\n",
       "      <td>Unknown</td>\n",
       "      <td>AMD</td>\n",
       "      <td>NaN</td>\n",
       "      <td>NaN</td>\n",
       "      <td>NaN</td>\n",
       "    </tr>\n",
       "    <tr>\n",
       "      <th>...</th>\n",
       "      <td>...</td>\n",
       "      <td>...</td>\n",
       "      <td>...</td>\n",
       "      <td>...</td>\n",
       "      <td>...</td>\n",
       "      <td>...</td>\n",
       "      <td>...</td>\n",
       "      <td>...</td>\n",
       "      <td>...</td>\n",
       "      <td>...</td>\n",
       "      <td>...</td>\n",
       "      <td>...</td>\n",
       "      <td>...</td>\n",
       "      <td>...</td>\n",
       "    </tr>\n",
       "    <tr>\n",
       "      <th>4849</th>\n",
       "      <td>4849</td>\n",
       "      <td>NVIDIA Quadro 3000M</td>\n",
       "      <td>GPU</td>\n",
       "      <td>2011-02-22</td>\n",
       "      <td>40.0</td>\n",
       "      <td>75.0</td>\n",
       "      <td>332.0</td>\n",
       "      <td>1950.0</td>\n",
       "      <td>450.0</td>\n",
       "      <td>TSMC</td>\n",
       "      <td>NVIDIA</td>\n",
       "      <td>NaN</td>\n",
       "      <td>432.0</td>\n",
       "      <td>36.0</td>\n",
       "    </tr>\n",
       "    <tr>\n",
       "      <th>4850</th>\n",
       "      <td>4850</td>\n",
       "      <td>Intel GMA 950</td>\n",
       "      <td>GPU</td>\n",
       "      <td>2005-06-01</td>\n",
       "      <td>90.0</td>\n",
       "      <td>7.0</td>\n",
       "      <td>NaN</td>\n",
       "      <td>NaN</td>\n",
       "      <td>250.0</td>\n",
       "      <td>Intel</td>\n",
       "      <td>Intel</td>\n",
       "      <td>NaN</td>\n",
       "      <td>NaN</td>\n",
       "      <td>NaN</td>\n",
       "    </tr>\n",
       "    <tr>\n",
       "      <th>4851</th>\n",
       "      <td>4851</td>\n",
       "      <td>NVIDIA GeForce GT 320M</td>\n",
       "      <td>GPU</td>\n",
       "      <td>2010-03-03</td>\n",
       "      <td>40.0</td>\n",
       "      <td>23.0</td>\n",
       "      <td>100.0</td>\n",
       "      <td>486.0</td>\n",
       "      <td>500.0</td>\n",
       "      <td>TSMC</td>\n",
       "      <td>NVIDIA</td>\n",
       "      <td>NaN</td>\n",
       "      <td>52.8</td>\n",
       "      <td>NaN</td>\n",
       "    </tr>\n",
       "    <tr>\n",
       "      <th>4852</th>\n",
       "      <td>4852</td>\n",
       "      <td>NVIDIA GeForce FX 5200</td>\n",
       "      <td>GPU</td>\n",
       "      <td>2003-03-06</td>\n",
       "      <td>150.0</td>\n",
       "      <td>NaN</td>\n",
       "      <td>65.0</td>\n",
       "      <td>29.0</td>\n",
       "      <td>250.0</td>\n",
       "      <td>TSMC</td>\n",
       "      <td>NVIDIA</td>\n",
       "      <td>NaN</td>\n",
       "      <td>NaN</td>\n",
       "      <td>NaN</td>\n",
       "    </tr>\n",
       "    <tr>\n",
       "      <th>4853</th>\n",
       "      <td>4853</td>\n",
       "      <td>NVIDIA GeForce 9300 SE</td>\n",
       "      <td>GPU</td>\n",
       "      <td>2008-06-01</td>\n",
       "      <td>65.0</td>\n",
       "      <td>NaN</td>\n",
       "      <td>86.0</td>\n",
       "      <td>210.0</td>\n",
       "      <td>540.0</td>\n",
       "      <td>TSMC</td>\n",
       "      <td>NVIDIA</td>\n",
       "      <td>NaN</td>\n",
       "      <td>20.8</td>\n",
       "      <td>NaN</td>\n",
       "    </tr>\n",
       "  </tbody>\n",
       "</table>\n",
       "<p>4854 rows × 14 columns</p>\n",
       "</div>"
      ],
      "text/plain": [
       "      Unnamed: 0                  Product Type Release Date  \\\n",
       "0              0      AMD Athlon 64 3500+  CPU   2007-02-20   \n",
       "1              1         AMD Athlon 200GE  CPU   2018-09-06   \n",
       "2              2     Intel Core i5-1145G7  CPU   2020-09-02   \n",
       "3              3    Intel Xeon E5-2603 v2  CPU   2013-09-01   \n",
       "4              4  AMD Phenom II X4 980 BE  CPU   2011-05-03   \n",
       "...          ...                      ...  ...          ...   \n",
       "4849        4849      NVIDIA Quadro 3000M  GPU   2011-02-22   \n",
       "4850        4850            Intel GMA 950  GPU   2005-06-01   \n",
       "4851        4851   NVIDIA GeForce GT 320M  GPU   2010-03-03   \n",
       "4852        4852   NVIDIA GeForce FX 5200  GPU   2003-03-06   \n",
       "4853        4853   NVIDIA GeForce 9300 SE  GPU   2008-06-01   \n",
       "\n",
       "      Process Size (nm)  TDP (W)  Die Size (mm^2)  Transistors (million)  \\\n",
       "0                  65.0     45.0             77.0                  122.0   \n",
       "1                  14.0     35.0            192.0                 4800.0   \n",
       "2                  10.0     28.0              NaN                    NaN   \n",
       "3                  22.0     80.0            160.0                 1400.0   \n",
       "4                  45.0    125.0            258.0                  758.0   \n",
       "...                 ...      ...              ...                    ...   \n",
       "4849               40.0     75.0            332.0                 1950.0   \n",
       "4850               90.0      7.0              NaN                    NaN   \n",
       "4851               40.0     23.0            100.0                  486.0   \n",
       "4852              150.0      NaN             65.0                   29.0   \n",
       "4853               65.0      NaN             86.0                  210.0   \n",
       "\n",
       "      Freq (MHz)  Foundry  Vendor  FP16 GFLOPS  FP32 GFLOPS  FP64 GFLOPS  \n",
       "0         2200.0  Unknown     AMD          NaN          NaN          NaN  \n",
       "1         3200.0  Unknown     AMD          NaN          NaN          NaN  \n",
       "2         2600.0    Intel   Intel          NaN          NaN          NaN  \n",
       "3         1800.0    Intel   Intel          NaN          NaN          NaN  \n",
       "4         3700.0  Unknown     AMD          NaN          NaN          NaN  \n",
       "...          ...      ...     ...          ...          ...          ...  \n",
       "4849       450.0     TSMC  NVIDIA          NaN        432.0         36.0  \n",
       "4850       250.0    Intel   Intel          NaN          NaN          NaN  \n",
       "4851       500.0     TSMC  NVIDIA          NaN         52.8          NaN  \n",
       "4852       250.0     TSMC  NVIDIA          NaN          NaN          NaN  \n",
       "4853       540.0     TSMC  NVIDIA          NaN         20.8          NaN  \n",
       "\n",
       "[4854 rows x 14 columns]"
      ]
     },
     "execution_count": 864,
     "metadata": {},
     "output_type": "execute_result"
    }
   ],
   "source": [
    "df = pd.read_csv('chip_dataset.csv')\n",
    "import pandas as pd\n",
    "import tensorflow as tf\n",
    "from tensorflow.keras import Sequential, layers\n",
    "import numpy as np\n",
    "from sklearn.model_selection import train_test_split\n",
    "from sklearn.metrics import accuracy_score\n",
    "df"
   ]
  },
  {
   "attachments": {},
   "cell_type": "markdown",
   "metadata": {},
   "source": [
    "## Data Preprocesing"
   ]
  },
  {
   "cell_type": "code",
   "execution_count": 865,
   "metadata": {},
   "outputs": [],
   "source": [
    "import numpy as np"
   ]
  },
  {
   "cell_type": "code",
   "execution_count": 866,
   "metadata": {},
   "outputs": [
    {
     "data": {
      "text/plain": [
       "Unnamed: 0                  0\n",
       "Product                     0\n",
       "Type                        0\n",
       "Release Date                0\n",
       "Process Size (nm)           9\n",
       "TDP (W)                   626\n",
       "Die Size (mm^2)           715\n",
       "Transistors (million)     711\n",
       "Freq (MHz)                  0\n",
       "Foundry                     0\n",
       "Vendor                      0\n",
       "FP16 GFLOPS              4318\n",
       "FP32 GFLOPS              2906\n",
       "FP64 GFLOPS              3548\n",
       "dtype: int64"
      ]
     },
     "execution_count": 866,
     "metadata": {},
     "output_type": "execute_result"
    }
   ],
   "source": [
    "df.isnull().sum()"
   ]
  },
  {
   "cell_type": "code",
   "execution_count": 867,
   "metadata": {},
   "outputs": [],
   "source": [
    "df.drop(['FP16 GFLOPS','FP32 GFLOPS', 'FP64 GFLOPS'], axis = 1, inplace= True)"
   ]
  },
  {
   "cell_type": "code",
   "execution_count": 868,
   "metadata": {},
   "outputs": [
    {
     "data": {
      "text/plain": [
       "Unnamed: 0               0\n",
       "Product                  0\n",
       "Type                     0\n",
       "Release Date             0\n",
       "Process Size (nm)        0\n",
       "TDP (W)                  0\n",
       "Die Size (mm^2)          0\n",
       "Transistors (million)    0\n",
       "Freq (MHz)               0\n",
       "Foundry                  0\n",
       "Vendor                   0\n",
       "dtype: int64"
      ]
     },
     "execution_count": 868,
     "metadata": {},
     "output_type": "execute_result"
    }
   ],
   "source": [
    "df['Process Size (nm)'] = df['Process Size (nm)'].fillna(df['Process Size (nm)'].mean())\n",
    "df['TDP (W)'] = df['TDP (W)'].fillna(df['TDP (W)'].mean())\n",
    "df['Die Size (mm^2)'] = df['Die Size (mm^2)'].fillna(df['Die Size (mm^2)'].mean())\n",
    "df['Transistors (million)'] = df['Transistors (million)'].fillna(df['Transistors (million)'].mean())\n",
    "# df['FP16 GFLOPS'] = df['FP16 GFLOPS'].fillna(df['FP16 GFLOPS'].mean())\n",
    "# df['FP32 GFLOPS'] = df['FP32 GFLOPS'].fillna(df['FP32 GFLOPS'].mean())\n",
    "# df['FP64 GFLOPS'] = df['FP64 GFLOPS'].fillna(df['FP64 GFLOPS'].mean())\n",
    "df.isnull().sum()"
   ]
  },
  {
   "cell_type": "code",
   "execution_count": 869,
   "metadata": {},
   "outputs": [
    {
     "name": "stdout",
     "output_type": "stream",
     "text": [
      "<class 'pandas.core.frame.DataFrame'>\n",
      "RangeIndex: 4854 entries, 0 to 4853\n",
      "Data columns (total 5 columns):\n",
      " #   Column                 Non-Null Count  Dtype  \n",
      "---  ------                 --------------  -----  \n",
      " 0   Process Size (nm)      4854 non-null   float64\n",
      " 1   TDP (W)                4854 non-null   float64\n",
      " 2   Die Size (mm^2)        4854 non-null   float64\n",
      " 3   Transistors (million)  4854 non-null   float64\n",
      " 4   Freq (MHz)             4854 non-null   float64\n",
      "dtypes: float64(5)\n",
      "memory usage: 189.7 KB\n"
     ]
    }
   ],
   "source": [
    "df.drop(columns='Unnamed: 0', inplace=True)\n",
    "df.select_dtypes(['int64' , 'float64']).info()"
   ]
  },
  {
   "cell_type": "code",
   "execution_count": 870,
   "metadata": {},
   "outputs": [
    {
     "name": "stdout",
     "output_type": "stream",
     "text": [
      "<class 'pandas.core.frame.DataFrame'>\n",
      "RangeIndex: 4854 entries, 0 to 4853\n",
      "Data columns (total 5 columns):\n",
      " #   Column        Non-Null Count  Dtype \n",
      "---  ------        --------------  ----- \n",
      " 0   Product       4854 non-null   object\n",
      " 1   Type          4854 non-null   object\n",
      " 2   Release Date  4854 non-null   object\n",
      " 3   Foundry       4854 non-null   object\n",
      " 4   Vendor        4854 non-null   object\n",
      "dtypes: object(5)\n",
      "memory usage: 189.7+ KB\n"
     ]
    }
   ],
   "source": [
    "df.select_dtypes('object').info()"
   ]
  },
  {
   "attachments": {},
   "cell_type": "markdown",
   "metadata": {},
   "source": [
    "##### Remove Outlier"
   ]
  },
  {
   "cell_type": "code",
   "execution_count": 871,
   "metadata": {},
   "outputs": [],
   "source": [
    "from scipy import stats\n",
    "\n",
    "df = df[(np.abs(stats.zscore(df.select_dtypes(['int64' , 'float64']))) < 3).all(axis=1)]"
   ]
  },
  {
   "cell_type": "code",
   "execution_count": 872,
   "metadata": {},
   "outputs": [],
   "source": [
    "df2 = df.drop(['Product', 'Release Date', 'Foundry', 'Vendor'], axis = 1)"
   ]
  },
  {
   "cell_type": "code",
   "execution_count": 873,
   "metadata": {},
   "outputs": [
    {
     "data": {
      "text/html": [
       "<div>\n",
       "<style scoped>\n",
       "    .dataframe tbody tr th:only-of-type {\n",
       "        vertical-align: middle;\n",
       "    }\n",
       "\n",
       "    .dataframe tbody tr th {\n",
       "        vertical-align: top;\n",
       "    }\n",
       "\n",
       "    .dataframe thead th {\n",
       "        text-align: right;\n",
       "    }\n",
       "</style>\n",
       "<table border=\"1\" class=\"dataframe\">\n",
       "  <thead>\n",
       "    <tr style=\"text-align: right;\">\n",
       "      <th></th>\n",
       "      <th>Type</th>\n",
       "      <th>Process Size (nm)</th>\n",
       "      <th>TDP (W)</th>\n",
       "      <th>Die Size (mm^2)</th>\n",
       "      <th>Transistors (million)</th>\n",
       "      <th>Freq (MHz)</th>\n",
       "    </tr>\n",
       "  </thead>\n",
       "  <tbody>\n",
       "    <tr>\n",
       "      <th>0</th>\n",
       "      <td>CPU</td>\n",
       "      <td>65.0</td>\n",
       "      <td>45.000000</td>\n",
       "      <td>77.000000</td>\n",
       "      <td>122.000000</td>\n",
       "      <td>2200.0</td>\n",
       "    </tr>\n",
       "    <tr>\n",
       "      <th>1</th>\n",
       "      <td>CPU</td>\n",
       "      <td>14.0</td>\n",
       "      <td>35.000000</td>\n",
       "      <td>192.000000</td>\n",
       "      <td>4800.000000</td>\n",
       "      <td>3200.0</td>\n",
       "    </tr>\n",
       "    <tr>\n",
       "      <th>2</th>\n",
       "      <td>CPU</td>\n",
       "      <td>10.0</td>\n",
       "      <td>28.000000</td>\n",
       "      <td>188.440445</td>\n",
       "      <td>1929.922279</td>\n",
       "      <td>2600.0</td>\n",
       "    </tr>\n",
       "    <tr>\n",
       "      <th>3</th>\n",
       "      <td>CPU</td>\n",
       "      <td>22.0</td>\n",
       "      <td>80.000000</td>\n",
       "      <td>160.000000</td>\n",
       "      <td>1400.000000</td>\n",
       "      <td>1800.0</td>\n",
       "    </tr>\n",
       "    <tr>\n",
       "      <th>4</th>\n",
       "      <td>CPU</td>\n",
       "      <td>45.0</td>\n",
       "      <td>125.000000</td>\n",
       "      <td>258.000000</td>\n",
       "      <td>758.000000</td>\n",
       "      <td>3700.0</td>\n",
       "    </tr>\n",
       "    <tr>\n",
       "      <th>...</th>\n",
       "      <td>...</td>\n",
       "      <td>...</td>\n",
       "      <td>...</td>\n",
       "      <td>...</td>\n",
       "      <td>...</td>\n",
       "      <td>...</td>\n",
       "    </tr>\n",
       "    <tr>\n",
       "      <th>4849</th>\n",
       "      <td>GPU</td>\n",
       "      <td>40.0</td>\n",
       "      <td>75.000000</td>\n",
       "      <td>332.000000</td>\n",
       "      <td>1950.000000</td>\n",
       "      <td>450.0</td>\n",
       "    </tr>\n",
       "    <tr>\n",
       "      <th>4850</th>\n",
       "      <td>GPU</td>\n",
       "      <td>90.0</td>\n",
       "      <td>7.000000</td>\n",
       "      <td>188.440445</td>\n",
       "      <td>1929.922279</td>\n",
       "      <td>250.0</td>\n",
       "    </tr>\n",
       "    <tr>\n",
       "      <th>4851</th>\n",
       "      <td>GPU</td>\n",
       "      <td>40.0</td>\n",
       "      <td>23.000000</td>\n",
       "      <td>100.000000</td>\n",
       "      <td>486.000000</td>\n",
       "      <td>500.0</td>\n",
       "    </tr>\n",
       "    <tr>\n",
       "      <th>4852</th>\n",
       "      <td>GPU</td>\n",
       "      <td>150.0</td>\n",
       "      <td>81.359981</td>\n",
       "      <td>65.000000</td>\n",
       "      <td>29.000000</td>\n",
       "      <td>250.0</td>\n",
       "    </tr>\n",
       "    <tr>\n",
       "      <th>4853</th>\n",
       "      <td>GPU</td>\n",
       "      <td>65.0</td>\n",
       "      <td>81.359981</td>\n",
       "      <td>86.000000</td>\n",
       "      <td>210.000000</td>\n",
       "      <td>540.0</td>\n",
       "    </tr>\n",
       "  </tbody>\n",
       "</table>\n",
       "<p>4650 rows × 6 columns</p>\n",
       "</div>"
      ],
      "text/plain": [
       "     Type  Process Size (nm)     TDP (W)  Die Size (mm^2)  \\\n",
       "0     CPU               65.0   45.000000        77.000000   \n",
       "1     CPU               14.0   35.000000       192.000000   \n",
       "2     CPU               10.0   28.000000       188.440445   \n",
       "3     CPU               22.0   80.000000       160.000000   \n",
       "4     CPU               45.0  125.000000       258.000000   \n",
       "...   ...                ...         ...              ...   \n",
       "4849  GPU               40.0   75.000000       332.000000   \n",
       "4850  GPU               90.0    7.000000       188.440445   \n",
       "4851  GPU               40.0   23.000000       100.000000   \n",
       "4852  GPU              150.0   81.359981        65.000000   \n",
       "4853  GPU               65.0   81.359981        86.000000   \n",
       "\n",
       "      Transistors (million)  Freq (MHz)  \n",
       "0                122.000000      2200.0  \n",
       "1               4800.000000      3200.0  \n",
       "2               1929.922279      2600.0  \n",
       "3               1400.000000      1800.0  \n",
       "4                758.000000      3700.0  \n",
       "...                     ...         ...  \n",
       "4849            1950.000000       450.0  \n",
       "4850            1929.922279       250.0  \n",
       "4851             486.000000       500.0  \n",
       "4852              29.000000       250.0  \n",
       "4853             210.000000       540.0  \n",
       "\n",
       "[4650 rows x 6 columns]"
      ]
     },
     "execution_count": 873,
     "metadata": {},
     "output_type": "execute_result"
    }
   ],
   "source": [
    "df2"
   ]
  },
  {
   "attachments": {},
   "cell_type": "markdown",
   "metadata": {},
   "source": [
    "# DNN Chip Dataset"
   ]
  },
  {
   "attachments": {},
   "cell_type": "markdown",
   "metadata": {},
   "source": [
    "### Split Dataset"
   ]
  },
  {
   "cell_type": "code",
   "execution_count": 874,
   "metadata": {},
   "outputs": [],
   "source": [
    "# X_val = df[['Process Size (nm)', 'TDP (W)', 'Die Size (mm^2)', 'Transistors (million)', 'Freq (MHz)']]\n",
    "# y_val = df['Type']"
   ]
  },
  {
   "cell_type": "code",
   "execution_count": 875,
   "metadata": {},
   "outputs": [],
   "source": [
    "X = df[['Process Size (nm)', 'TDP (W)', 'Die Size (mm^2)', 'Transistors (million)', 'Freq (MHz)']]\n",
    "y = df['Type']"
   ]
  },
  {
   "cell_type": "code",
   "execution_count": 876,
   "metadata": {},
   "outputs": [],
   "source": [
    "# X_val = df[['Process Size (nm)', 'TDP (W)', 'Die Size (mm^2)', 'Transistors (million)', 'Freq (MHz)']]\n",
    "# y_val = df['Type']"
   ]
  },
  {
   "cell_type": "code",
   "execution_count": 877,
   "metadata": {},
   "outputs": [],
   "source": [
    "X_train, X_test, y_train , y_test = train_test_split(X, y, test_size = 0.2, random_state = 42)"
   ]
  },
  {
   "attachments": {},
   "cell_type": "markdown",
   "metadata": {},
   "source": [
    "#### Scaling"
   ]
  },
  {
   "cell_type": "code",
   "execution_count": 878,
   "metadata": {},
   "outputs": [],
   "source": [
    "mm = MinMaxScaler()\n",
    "X_train = mm.fit_transform(X_train)\n",
    "X_test = mm.transform(X_test)"
   ]
  },
  {
   "cell_type": "code",
   "execution_count": 879,
   "metadata": {},
   "outputs": [],
   "source": [
    "le = LabelEncoder()\n",
    "y_train = le.fit_transform(y_train)\n",
    "y_test = le.fit_transform(y_test)\n",
    "# y_val = le.fit_transform(y_val)"
   ]
  },
  {
   "cell_type": "code",
   "execution_count": 880,
   "metadata": {},
   "outputs": [
    {
     "data": {
      "text/plain": [
       "(3720, 5)"
      ]
     },
     "execution_count": 880,
     "metadata": {},
     "output_type": "execute_result"
    }
   ],
   "source": [
    "X_train.shape"
   ]
  },
  {
   "attachments": {},
   "cell_type": "markdown",
   "metadata": {},
   "source": [
    "## Membuat Model"
   ]
  },
  {
   "attachments": {},
   "cell_type": "markdown",
   "metadata": {},
   "source": [
    "#### Compile Model"
   ]
  },
  {
   "cell_type": "code",
   "execution_count": 881,
   "metadata": {},
   "outputs": [],
   "source": [
    "model = Sequential([\n",
    "    layers.Dense(16, activation='sigmoid', input_shape=[5]), #Input Layer\n",
    "    layers.Dense(32, activation='relu'),\n",
    "    layers.Dense(1, activation='sigmoid') # Output Layer\n",
    "])\n",
    "\n",
    "model.compile(optimizer='Adam', \n",
    "              loss='binary_crossentropy',\n",
    "              metrics=['accuracy'])"
   ]
  },
  {
   "attachments": {},
   "cell_type": "markdown",
   "metadata": {},
   "source": [
    "#### Fit Model"
   ]
  },
  {
   "cell_type": "code",
   "execution_count": 882,
   "metadata": {},
   "outputs": [
    {
     "name": "stdout",
     "output_type": "stream",
     "text": [
      "Epoch 1/20\n",
      "93/93 [==============================] - 0s 2ms/step - loss: 0.6650 - accuracy: 0.6277 - val_loss: 0.6513 - val_accuracy: 0.8266\n",
      "Epoch 2/20\n",
      "93/93 [==============================] - 0s 1ms/step - loss: 0.6333 - accuracy: 0.7419 - val_loss: 0.6130 - val_accuracy: 0.7876\n",
      "Epoch 3/20\n",
      "93/93 [==============================] - 0s 1ms/step - loss: 0.5814 - accuracy: 0.8411 - val_loss: 0.5482 - val_accuracy: 0.9086\n",
      "Epoch 4/20\n",
      "93/93 [==============================] - 0s 1ms/step - loss: 0.4992 - accuracy: 0.8925 - val_loss: 0.4523 - val_accuracy: 0.9059\n",
      "Epoch 5/20\n",
      "93/93 [==============================] - 0s 1ms/step - loss: 0.3939 - accuracy: 0.9315 - val_loss: 0.3473 - val_accuracy: 0.9234\n",
      "Epoch 6/20\n",
      "93/93 [==============================] - 0s 1ms/step - loss: 0.2949 - accuracy: 0.9506 - val_loss: 0.2636 - val_accuracy: 0.9288\n",
      "Epoch 7/20\n",
      "93/93 [==============================] - 0s 1ms/step - loss: 0.2213 - accuracy: 0.9627 - val_loss: 0.2045 - val_accuracy: 0.9462\n",
      "Epoch 8/20\n",
      "93/93 [==============================] - 0s 1ms/step - loss: 0.1738 - accuracy: 0.9681 - val_loss: 0.1648 - val_accuracy: 0.9637\n",
      "Epoch 9/20\n",
      "93/93 [==============================] - 0s 1ms/step - loss: 0.1424 - accuracy: 0.9714 - val_loss: 0.1477 - val_accuracy: 0.9503\n",
      "Epoch 10/20\n",
      "93/93 [==============================] - 0s 1ms/step - loss: 0.1226 - accuracy: 0.9731 - val_loss: 0.1223 - val_accuracy: 0.9745\n",
      "Epoch 11/20\n",
      "93/93 [==============================] - 0s 1ms/step - loss: 0.1082 - accuracy: 0.9751 - val_loss: 0.1098 - val_accuracy: 0.9758\n",
      "Epoch 12/20\n",
      "93/93 [==============================] - 0s 1ms/step - loss: 0.0984 - accuracy: 0.9758 - val_loss: 0.1026 - val_accuracy: 0.9758\n",
      "Epoch 13/20\n",
      "93/93 [==============================] - 0s 1ms/step - loss: 0.0908 - accuracy: 0.9778 - val_loss: 0.0964 - val_accuracy: 0.9758\n",
      "Epoch 14/20\n",
      "93/93 [==============================] - 0s 1ms/step - loss: 0.0860 - accuracy: 0.9782 - val_loss: 0.0887 - val_accuracy: 0.9785\n",
      "Epoch 15/20\n",
      "93/93 [==============================] - 0s 1ms/step - loss: 0.0821 - accuracy: 0.9788 - val_loss: 0.0831 - val_accuracy: 0.9825\n",
      "Epoch 16/20\n",
      "93/93 [==============================] - 0s 1ms/step - loss: 0.0793 - accuracy: 0.9795 - val_loss: 0.0800 - val_accuracy: 0.9825\n",
      "Epoch 17/20\n",
      "93/93 [==============================] - 0s 1ms/step - loss: 0.0766 - accuracy: 0.9805 - val_loss: 0.0827 - val_accuracy: 0.9772\n",
      "Epoch 18/20\n",
      "93/93 [==============================] - 0s 1ms/step - loss: 0.0754 - accuracy: 0.9792 - val_loss: 0.0759 - val_accuracy: 0.9852\n",
      "Epoch 19/20\n",
      "93/93 [==============================] - 0s 1ms/step - loss: 0.0732 - accuracy: 0.9798 - val_loss: 0.0734 - val_accuracy: 0.9852\n",
      "Epoch 20/20\n",
      "93/93 [==============================] - 0s 1ms/step - loss: 0.0720 - accuracy: 0.9819 - val_loss: 0.0766 - val_accuracy: 0.9812\n"
     ]
    },
    {
     "data": {
      "text/plain": [
       "<keras.src.callbacks.History at 0x1f1d02b9150>"
      ]
     },
     "execution_count": 882,
     "metadata": {},
     "output_type": "execute_result"
    }
   ],
   "source": [
    "model.fit(X_train, y_train, epochs = 20,validation_split=0.2)"
   ]
  },
  {
   "cell_type": "code",
   "execution_count": 883,
   "metadata": {},
   "outputs": [],
   "source": [
    "# class MyCallback(tf.keras.callbacks.Callback):\n",
    "#     def on_epoch_end(self, epoch, logs={}):\n",
    "#         if(logs.get('acc') > 0.84 and logs.get('val_acc') > 0.84):\n",
    "#             self.model.stop_training = True\n",
    "\n",
    "# callback_function = MyCallback()\n",
    "\n",
    "\n",
    "# model.fit(X_train, y_train, epochs=10, validation_data=(X_val, y_val), callbacks=[callback_function])"
   ]
  },
  {
   "attachments": {},
   "cell_type": "markdown",
   "metadata": {},
   "source": [
    "#### Accuracy"
   ]
  },
  {
   "cell_type": "code",
   "execution_count": 884,
   "metadata": {},
   "outputs": [
    {
     "name": "stdout",
     "output_type": "stream",
     "text": [
      "30/30 [==============================] - 0s 703us/step - loss: 0.0730 - accuracy: 0.9742\n"
     ]
    },
    {
     "data": {
      "text/plain": [
       "[0.07298468798398972, 0.9741935729980469]"
      ]
     },
     "execution_count": 884,
     "metadata": {},
     "output_type": "execute_result"
    }
   ],
   "source": [
    "model.evaluate(X_test, y_test)"
   ]
  },
  {
   "cell_type": "code",
   "execution_count": 885,
   "metadata": {},
   "outputs": [],
   "source": [
    "y_pred = np.where(y_pred > 0.5, 1, 0).reshape(-1)"
   ]
  },
  {
   "cell_type": "code",
   "execution_count": 886,
   "metadata": {},
   "outputs": [
    {
     "data": {
      "text/plain": [
       "0.9720430107526882"
      ]
     },
     "execution_count": 886,
     "metadata": {},
     "output_type": "execute_result"
    }
   ],
   "source": [
    "accuracy_score(y_test, y_pred)"
   ]
  },
  {
   "attachments": {},
   "cell_type": "markdown",
   "metadata": {},
   "source": [
    "#### Grafik"
   ]
  },
  {
   "cell_type": "code",
   "execution_count": 887,
   "metadata": {},
   "outputs": [],
   "source": [
    "import matplotlib.pyplot as plt"
   ]
  },
  {
   "cell_type": "code",
   "execution_count": 888,
   "metadata": {},
   "outputs": [
    {
     "data": {
      "image/png": "[encoded data removed]",
      "text/plain": [
       "<Figure size 1000x600 with 1 Axes>"
      ]
     },
     "metadata": {},
     "output_type": "display_data"
    }
   ],
   "source": [
    "plt.figure(figsize=(10, 6))\n",
    "plt.plot(history.history['loss'])\n",
    "plt.plot(history.history['val_loss'])\n",
    "plt.title('Loss Model')\n",
    "plt.ylabel('Loss')\n",
    "plt.xlabel('Epoch')\n",
    "plt.legend(['train', 'val'], loc='upper left')\n",
    "plt.show()"
   ]
  },
  {
   "cell_type": "code",
   "execution_count": 889,
   "metadata": {},
   "outputs": [
    {
     "data": {
      "image/png": "[encoded data removed]",
      "text/plain": [
       "<Figure size 1000x600 with 1 Axes>"
      ]
     },
     "metadata": {},
     "output_type": "display_data"
    }
   ],
   "source": [
    "plt.figure(figsize=(10, 6))\n",
    "plt.plot(history.history['accuracy'])\n",
    "plt.plot(history.history['val_accuracy'])\n",
    "plt.title('Accuracy model')\n",
    "plt.ylabel('Accuracy')\n",
    "plt.xlabel('Epoch')\n",
    "plt.legend(['train', 'val'], loc='upper left')\n",
    "plt.show()"
   ]
  }
 ],
 "metadata": {
  "kernelspec": {
   "display_name": "Python 3",
   "language": "python",
   "name": "python3"
  },
  "language_info": {
   "codemirror_mode": {
    "name": "ipython",
    "version": 3
   },
   "file_extension": ".py",
   "mimetype": "text/x-python",
   "name": "python",
   "nbconvert_exporter": "python",
   "pygments_lexer": "ipython3",
   "version": "3.10.7"
  },
  "orig_nbformat": 4
 },
 "nbformat": 4,
 "nbformat_minor": 2
}
